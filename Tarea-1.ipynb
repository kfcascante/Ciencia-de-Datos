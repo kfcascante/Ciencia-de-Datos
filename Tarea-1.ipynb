{
 "cells": [
  {
   "cell_type": "code",
   "execution_count": 14,
   "metadata": {},
   "outputs": [
    {
     "name": "stdout",
     "output_type": "stream",
     "text": [
      "Media\n",
      "11.177753424657535\n",
      "Desviación Estandar\n",
      "4.071836899397183\n",
      "Valor Maximo\n",
      "26.3\n",
      "Valor Manimo\n",
      "0.0\n",
      "**********\n",
      "1.0\n",
      "Media\n",
      "0.9994520547945206\n",
      "Desviación Estandar\n",
      "0.02340502173390935\n",
      "Valor Maximo\n",
      "1.0\n",
      "Valor Manimo\n",
      "0.0\n"
     ]
    },
    {
     "data": {
      "image/png": "[encoded data removed]",
      "text/plain": [
       "<Figure size 432x360 with 2 Axes>"
      ]
     },
     "metadata": {
      "needs_background": "light"
     },
     "output_type": "display_data"
    }
   ],
   "source": [
    "# tarea 1\n",
    "# Importar libreria Panda\n",
    "\n",
    "import pandas as pd\n",
    "import seaborn as sns\n",
    "import matplotlib.pyplot as plt\n",
    "import numpy as np\n",
    "from sklearn import preprocessing\n",
    "\n",
    "datos=pd.read_csv('dailytemperatures.csv')\n",
    "#el paso que si es por si existe un dato  que no es numero es decir \"Nan\"\n",
    "datos=datos.replace(np.nan,\"0\")\n",
    "#Creación de dataframe (Copiar datos) para almacenar los datos y poder modificar sin cambiar nada en ele excel\n",
    "df=pd.DataFrame(datos)\n",
    "\n",
    "#Calculo de media\n",
    "\n",
    "print(\"Media\")\n",
    "print(df['Temp'].mean())\n",
    "\n",
    "#Calculo de desviación Estandar\n",
    "print(\"Desviación Estandar\")\n",
    "print(df['Temp'].std())\n",
    "\n",
    "#Calculo valor Maximo\n",
    "print(\"Valor Maximo\")\n",
    "print(df['Temp'].max())\n",
    "\n",
    "\n",
    "#Calculo valor Minimo\n",
    "print(\"Valor Manimo\")\n",
    "print(df['Temp'].min())\n",
    "\n",
    "\n",
    "#------------------------------------------\n",
    "#Grafico antes de escalar o normalizar\n",
    "\n",
    "fig,(ax1, ax2) =plt.subplots(ncols=2,figsize=(6,5))\n",
    "ax1.set_title('Antes de escalar')\n",
    "sns.kdeplot(df['Temp'], ax=ax1)\n",
    "#sns.kdeplot(df['Date'], ax=ax1)\n",
    "\n",
    "\n",
    "#normalizacion o escala de datos\n",
    "\n",
    "#scaler = preprocessing.StandardScaler()\n",
    "\n",
    "scaler = preprocessing.Normalizer(norm='l1', copy=True)\n",
    "\n",
    "\n",
    "df[['Temp']]=scaler.fit_transform(df[['Temp']])\n",
    "\n",
    "\n",
    "print(\"*\"*10)\n",
    "\n",
    "\n",
    "#Grafico despues de escalar o normalizar\n",
    "\n",
    "print(df['Temp'].iloc[0])\n",
    "\n",
    "#Calculo de media\n",
    "\n",
    "print(\"Media\")\n",
    "print(df['Temp'].mean())\n",
    "\n",
    "#Calculo de desviación Estandar\n",
    "print(\"Desviación Estandar\")\n",
    "print(df['Temp'].std())\n",
    "\n",
    "#Calculo valor Maximo\n",
    "print(\"Valor Maximo\")\n",
    "print(df['Temp'].max())\n",
    "\n",
    "\n",
    "#Calculo valor Minimo\n",
    "print(\"Valor Manimo\")\n",
    "print(df['Temp'].min())\n",
    "\n",
    "df.to_csv('prepoz.csv',sep='\\t')\n",
    "ax2.set_title('Despues de escalar')\n",
    "sns.kdeplot(df['Temp'], ax=ax2)\n",
    "plt.show()\n",
    "\n",
    "\n"
   ]
  },
  {
   "cell_type": "code",
   "execution_count": null,
   "metadata": {},
   "outputs": [],
   "source": []
  },
  {
   "cell_type": "code",
   "execution_count": null,
   "metadata": {},
   "outputs": [],
   "source": []
  }
 ],
 "metadata": {
  "kernelspec": {
   "display_name": "Python 3",
   "language": "python",
   "name": "python3"
  },
  "language_info": {
   "codemirror_mode": {
    "name": "ipython",
    "version": 3
   },
   "file_extension": ".py",
   "mimetype": "text/x-python",
   "name": "python",
   "nbconvert_exporter": "python",
   "pygments_lexer": "ipython3",
   "version": "3.7.3"
  }
 },
 "nbformat": 4,
 "nbformat_minor": 2
}
